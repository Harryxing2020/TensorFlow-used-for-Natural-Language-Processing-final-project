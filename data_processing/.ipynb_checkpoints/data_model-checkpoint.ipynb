{
 "cells": [
  {
   "cell_type": "code",
   "execution_count": 2,
   "metadata": {},
   "outputs": [],
   "source": [
    "import pandas as pd"
   ]
  },
  {
   "cell_type": "code",
   "execution_count": 11,
   "metadata": {},
   "outputs": [
    {
     "data": {
      "text/html": [
       "<div>\n",
       "<style scoped>\n",
       "    .dataframe tbody tr th:only-of-type {\n",
       "        vertical-align: middle;\n",
       "    }\n",
       "\n",
       "    .dataframe tbody tr th {\n",
       "        vertical-align: top;\n",
       "    }\n",
       "\n",
       "    .dataframe thead th {\n",
       "        text-align: right;\n",
       "    }\n",
       "</style>\n",
       "<table border=\"1\" class=\"dataframe\">\n",
       "  <thead>\n",
       "    <tr style=\"text-align: right;\">\n",
       "      <th></th>\n",
       "      <th>date</th>\n",
       "      <th>name</th>\n",
       "      <th>tweet</th>\n",
       "    </tr>\n",
       "  </thead>\n",
       "  <tbody>\n",
       "    <tr>\n",
       "      <th>0</th>\n",
       "      <td>2020-11-15</td>\n",
       "      <td>&lt;JoeBiden&gt;</td>\n",
       "      <td>congratulations to nasa and spacex on today's...</td>\n",
       "    </tr>\n",
       "    <tr>\n",
       "      <th>1</th>\n",
       "      <td>2020-11-14</td>\n",
       "      <td>&lt;JoeBiden&gt;</td>\n",
       "      <td>to the millions of hindus, jains, sikhs, and ...</td>\n",
       "    </tr>\n",
       "    <tr>\n",
       "      <th>2</th>\n",
       "      <td>2020-11-13</td>\n",
       "      <td>&lt;JoeBiden&gt;</td>\n",
       "      <td>i am the president-elect, but will not be pre...</td>\n",
       "    </tr>\n",
       "  </tbody>\n",
       "</table>\n",
       "</div>"
      ],
      "text/plain": [
       "         date        name                                              tweet\n",
       "0  2020-11-15  <JoeBiden>   congratulations to nasa and spacex on today's...\n",
       "1  2020-11-14  <JoeBiden>   to the millions of hindus, jains, sikhs, and ...\n",
       "2  2020-11-13  <JoeBiden>   i am the president-elect, but will not be pre..."
      ]
     },
     "execution_count": 11,
     "metadata": {},
     "output_type": "execute_result"
    }
   ],
   "source": [
    "biden_trump_tweet_df = pd.read_csv('../data/biden_trump_tweet.csv')\n",
    "biden_trump_tweet_df= biden_trump_tweet_df.drop(['Unnamed: 0'], axis=1)\n",
    "biden_trump_tweet_df.head(3)"
   ]
  },
  {
   "cell_type": "code",
   "execution_count": 12,
   "metadata": {},
   "outputs": [
    {
     "data": {
      "text/plain": [
       "date     3032\n",
       "name     3032\n",
       "tweet    3032\n",
       "dtype: int64"
      ]
     },
     "execution_count": 12,
     "metadata": {},
     "output_type": "execute_result"
    }
   ],
   "source": [
    "biden_trump_tweet_df[biden_trump_tweet_df['name']=='<JoeBiden>'].count()"
   ]
  },
  {
   "cell_type": "code",
   "execution_count": 13,
   "metadata": {},
   "outputs": [
    {
     "data": {
      "text/plain": [
       "date     4019\n",
       "name     4019\n",
       "tweet    4019\n",
       "dtype: int64"
      ]
     },
     "execution_count": 13,
     "metadata": {},
     "output_type": "execute_result"
    }
   ],
   "source": [
    "biden_trump_tweet_df[biden_trump_tweet_df['name']=='<realDonaldTrump>'].count()"
   ]
  },
  {
   "cell_type": "code",
   "execution_count": 14,
   "metadata": {},
   "outputs": [
    {
     "data": {
      "text/html": [
       "<div>\n",
       "<style scoped>\n",
       "    .dataframe tbody tr th:only-of-type {\n",
       "        vertical-align: middle;\n",
       "    }\n",
       "\n",
       "    .dataframe tbody tr th {\n",
       "        vertical-align: top;\n",
       "    }\n",
       "\n",
       "    .dataframe thead th {\n",
       "        text-align: right;\n",
       "    }\n",
       "</style>\n",
       "<table border=\"1\" class=\"dataframe\">\n",
       "  <thead>\n",
       "    <tr style=\"text-align: right;\">\n",
       "      <th></th>\n",
       "      <th>date</th>\n",
       "      <th>name</th>\n",
       "      <th>tweet</th>\n",
       "      <th>label</th>\n",
       "    </tr>\n",
       "  </thead>\n",
       "  <tbody>\n",
       "    <tr>\n",
       "      <th>0</th>\n",
       "      <td>2020-11-15</td>\n",
       "      <td>&lt;JoeBiden&gt;</td>\n",
       "      <td>congratulations to nasa and spacex on today's...</td>\n",
       "      <td>1</td>\n",
       "    </tr>\n",
       "    <tr>\n",
       "      <th>1</th>\n",
       "      <td>2020-11-14</td>\n",
       "      <td>&lt;JoeBiden&gt;</td>\n",
       "      <td>to the millions of hindus, jains, sikhs, and ...</td>\n",
       "      <td>1</td>\n",
       "    </tr>\n",
       "    <tr>\n",
       "      <th>2</th>\n",
       "      <td>2020-11-13</td>\n",
       "      <td>&lt;JoeBiden&gt;</td>\n",
       "      <td>i am the president-elect, but will not be pre...</td>\n",
       "      <td>1</td>\n",
       "    </tr>\n",
       "    <tr>\n",
       "      <th>3</th>\n",
       "      <td>2020-11-13</td>\n",
       "      <td>&lt;JoeBiden&gt;</td>\n",
       "      <td>i am alarmed by the surge in reported covid-1...</td>\n",
       "      <td>1</td>\n",
       "    </tr>\n",
       "    <tr>\n",
       "      <th>4</th>\n",
       "      <td>2020-11-13</td>\n",
       "      <td>&lt;JoeBiden&gt;</td>\n",
       "      <td>as the remnants of tropical storm eta continu...</td>\n",
       "      <td>1</td>\n",
       "    </tr>\n",
       "    <tr>\n",
       "      <th>...</th>\n",
       "      <td>...</td>\n",
       "      <td>...</td>\n",
       "      <td>...</td>\n",
       "      <td>...</td>\n",
       "    </tr>\n",
       "    <tr>\n",
       "      <th>7046</th>\n",
       "      <td>2020-01-02</td>\n",
       "      <td>&lt;realDonaldTrump&gt;</td>\n",
       "      <td>a lot of very good people were taken down by ...</td>\n",
       "      <td>0</td>\n",
       "    </tr>\n",
       "    <tr>\n",
       "      <th>7047</th>\n",
       "      <td>2020-01-02</td>\n",
       "      <td>&lt;realDonaldTrump&gt;</td>\n",
       "      <td>....it’s alienating independents. this presid...</td>\n",
       "      <td>0</td>\n",
       "    </tr>\n",
       "    <tr>\n",
       "      <th>7048</th>\n",
       "      <td>2020-01-02</td>\n",
       "      <td>&lt;realDonaldTrump&gt;</td>\n",
       "      <td>sohrab ahmari, new york post “the trump campa...</td>\n",
       "      <td>0</td>\n",
       "    </tr>\n",
       "    <tr>\n",
       "      <th>7049</th>\n",
       "      <td>2020-01-01</td>\n",
       "      <td>&lt;realDonaldTrump&gt;</td>\n",
       "      <td>they don’t know how to do that!\\n</td>\n",
       "      <td>0</td>\n",
       "    </tr>\n",
       "    <tr>\n",
       "      <th>7050</th>\n",
       "      <td>2020-01-01</td>\n",
       "      <td>&lt;realDonaldTrump&gt;</td>\n",
       "      <td>too bad, corey would have won! he (and i) lov...</td>\n",
       "      <td>0</td>\n",
       "    </tr>\n",
       "  </tbody>\n",
       "</table>\n",
       "<p>7051 rows × 4 columns</p>\n",
       "</div>"
      ],
      "text/plain": [
       "            date               name  \\\n",
       "0     2020-11-15         <JoeBiden>   \n",
       "1     2020-11-14         <JoeBiden>   \n",
       "2     2020-11-13         <JoeBiden>   \n",
       "3     2020-11-13         <JoeBiden>   \n",
       "4     2020-11-13         <JoeBiden>   \n",
       "...          ...                ...   \n",
       "7046  2020-01-02  <realDonaldTrump>   \n",
       "7047  2020-01-02  <realDonaldTrump>   \n",
       "7048  2020-01-02  <realDonaldTrump>   \n",
       "7049  2020-01-01  <realDonaldTrump>   \n",
       "7050  2020-01-01  <realDonaldTrump>   \n",
       "\n",
       "                                                  tweet  label  \n",
       "0      congratulations to nasa and spacex on today's...      1  \n",
       "1      to the millions of hindus, jains, sikhs, and ...      1  \n",
       "2      i am the president-elect, but will not be pre...      1  \n",
       "3      i am alarmed by the surge in reported covid-1...      1  \n",
       "4      as the remnants of tropical storm eta continu...      1  \n",
       "...                                                 ...    ...  \n",
       "7046   a lot of very good people were taken down by ...      0  \n",
       "7047   ....it’s alienating independents. this presid...      0  \n",
       "7048   sohrab ahmari, new york post “the trump campa...      0  \n",
       "7049                  they don’t know how to do that!\\n      0  \n",
       "7050   too bad, corey would have won! he (and i) lov...      0  \n",
       "\n",
       "[7051 rows x 4 columns]"
      ]
     },
     "execution_count": 14,
     "metadata": {},
     "output_type": "execute_result"
    }
   ],
   "source": [
    "biden_trump_tweet_df['label']=biden_trump_tweet_df['name'].apply(lambda x:0 if x=='<realDonaldTrump>' else 1)\n",
    "biden_trump_tweet_df"
   ]
  },
  {
   "cell_type": "code",
   "execution_count": 16,
   "metadata": {},
   "outputs": [
    {
     "name": "stdout",
     "output_type": "stream",
     "text": [
      "(7051,) (7051,)\n"
     ]
    }
   ],
   "source": [
    "y = biden_trump_tweet_df[\"label\"]\n",
    "y_names = ['@JoeBiden', '@realDonaldTrump']\n",
    "X = biden_trump_tweet_df[\"tweet\"]\n",
    "print(X.shape, y.shape)"
   ]
  },
  {
   "cell_type": "code",
   "execution_count": 17,
   "metadata": {},
   "outputs": [],
   "source": [
    "from sklearn.model_selection import train_test_split\n",
    "X_train, X_test, y_train, y_test = train_test_split(X, y, random_state=42)"
   ]
  },
  {
   "cell_type": "code",
   "execution_count": 18,
   "metadata": {},
   "outputs": [
    {
     "name": "stderr",
     "output_type": "stream",
     "text": [
      "C:\\Users\\emmax\\anaconda3\\lib\\site-packages\\tensorflow\\python\\framework\\dtypes.py:516: FutureWarning: Passing (type, 1) or '1type' as a synonym of type is deprecated; in a future version of numpy, it will be understood as (type, (1,)) / '(1,)type'.\n",
      "  _np_qint8 = np.dtype([(\"qint8\", np.int8, 1)])\n",
      "C:\\Users\\emmax\\anaconda3\\lib\\site-packages\\tensorflow\\python\\framework\\dtypes.py:517: FutureWarning: Passing (type, 1) or '1type' as a synonym of type is deprecated; in a future version of numpy, it will be understood as (type, (1,)) / '(1,)type'.\n",
      "  _np_quint8 = np.dtype([(\"quint8\", np.uint8, 1)])\n",
      "C:\\Users\\emmax\\anaconda3\\lib\\site-packages\\tensorflow\\python\\framework\\dtypes.py:518: FutureWarning: Passing (type, 1) or '1type' as a synonym of type is deprecated; in a future version of numpy, it will be understood as (type, (1,)) / '(1,)type'.\n",
      "  _np_qint16 = np.dtype([(\"qint16\", np.int16, 1)])\n",
      "C:\\Users\\emmax\\anaconda3\\lib\\site-packages\\tensorflow\\python\\framework\\dtypes.py:519: FutureWarning: Passing (type, 1) or '1type' as a synonym of type is deprecated; in a future version of numpy, it will be understood as (type, (1,)) / '(1,)type'.\n",
      "  _np_quint16 = np.dtype([(\"quint16\", np.uint16, 1)])\n",
      "C:\\Users\\emmax\\anaconda3\\lib\\site-packages\\tensorflow\\python\\framework\\dtypes.py:520: FutureWarning: Passing (type, 1) or '1type' as a synonym of type is deprecated; in a future version of numpy, it will be understood as (type, (1,)) / '(1,)type'.\n",
      "  _np_qint32 = np.dtype([(\"qint32\", np.int32, 1)])\n",
      "C:\\Users\\emmax\\anaconda3\\lib\\site-packages\\tensorflow\\python\\framework\\dtypes.py:525: FutureWarning: Passing (type, 1) or '1type' as a synonym of type is deprecated; in a future version of numpy, it will be understood as (type, (1,)) / '(1,)type'.\n",
      "  np_resource = np.dtype([(\"resource\", np.ubyte, 1)])\n",
      "C:\\Users\\emmax\\anaconda3\\lib\\site-packages\\tensorboard\\compat\\tensorflow_stub\\dtypes.py:541: FutureWarning: Passing (type, 1) or '1type' as a synonym of type is deprecated; in a future version of numpy, it will be understood as (type, (1,)) / '(1,)type'.\n",
      "  _np_qint8 = np.dtype([(\"qint8\", np.int8, 1)])\n",
      "C:\\Users\\emmax\\anaconda3\\lib\\site-packages\\tensorboard\\compat\\tensorflow_stub\\dtypes.py:542: FutureWarning: Passing (type, 1) or '1type' as a synonym of type is deprecated; in a future version of numpy, it will be understood as (type, (1,)) / '(1,)type'.\n",
      "  _np_quint8 = np.dtype([(\"quint8\", np.uint8, 1)])\n",
      "C:\\Users\\emmax\\anaconda3\\lib\\site-packages\\tensorboard\\compat\\tensorflow_stub\\dtypes.py:543: FutureWarning: Passing (type, 1) or '1type' as a synonym of type is deprecated; in a future version of numpy, it will be understood as (type, (1,)) / '(1,)type'.\n",
      "  _np_qint16 = np.dtype([(\"qint16\", np.int16, 1)])\n",
      "C:\\Users\\emmax\\anaconda3\\lib\\site-packages\\tensorboard\\compat\\tensorflow_stub\\dtypes.py:544: FutureWarning: Passing (type, 1) or '1type' as a synonym of type is deprecated; in a future version of numpy, it will be understood as (type, (1,)) / '(1,)type'.\n",
      "  _np_quint16 = np.dtype([(\"quint16\", np.uint16, 1)])\n",
      "C:\\Users\\emmax\\anaconda3\\lib\\site-packages\\tensorboard\\compat\\tensorflow_stub\\dtypes.py:545: FutureWarning: Passing (type, 1) or '1type' as a synonym of type is deprecated; in a future version of numpy, it will be understood as (type, (1,)) / '(1,)type'.\n",
      "  _np_qint32 = np.dtype([(\"qint32\", np.int32, 1)])\n",
      "C:\\Users\\emmax\\anaconda3\\lib\\site-packages\\tensorboard\\compat\\tensorflow_stub\\dtypes.py:550: FutureWarning: Passing (type, 1) or '1type' as a synonym of type is deprecated; in a future version of numpy, it will be understood as (type, (1,)) / '(1,)type'.\n",
      "  np_resource = np.dtype([(\"resource\", np.ubyte, 1)])\n"
     ]
    }
   ],
   "source": [
    "%matplotlib inline\n",
    "import matplotlib.pyplot as plt\n",
    "import tensorflow as tf\n",
    "import numpy as np\n",
    "from scipy.spatial.distance import cdist"
   ]
  },
  {
   "cell_type": "code",
   "execution_count": 19,
   "metadata": {},
   "outputs": [],
   "source": [
    "# from tf.keras.models import Sequential  # This does not work!\n",
    "from tensorflow.python.keras.models import Sequential\n",
    "from tensorflow.python.keras.layers import Dense, GRU, Embedding\n",
    "from tensorflow.python.keras.optimizers import Adam\n",
    "from tensorflow.python.keras.preprocessing.text import Tokenizer\n",
    "from tensorflow.python.keras.preprocessing.sequence import pad_sequences"
   ]
  },
  {
   "cell_type": "code",
   "execution_count": 20,
   "metadata": {},
   "outputs": [],
   "source": [
    "num_words = 10000\n",
    "tokenizer = Tokenizer(num_words=num_words)"
   ]
  },
  {
   "cell_type": "code",
   "execution_count": 21,
   "metadata": {},
   "outputs": [
    {
     "data": {
      "text/plain": [
       "pandas.core.series.Series"
      ]
     },
     "execution_count": 21,
     "metadata": {},
     "output_type": "execute_result"
    }
   ],
   "source": [
    "type(X)"
   ]
  },
  {
   "cell_type": "code",
   "execution_count": 22,
   "metadata": {},
   "outputs": [
    {
     "name": "stdout",
     "output_type": "stream",
     "text": [
      "Wall time: 254 ms\n"
     ]
    }
   ],
   "source": [
    "%%time\n",
    "tokenizer.fit_on_texts(X.tolist())"
   ]
  },
  {
   "cell_type": "code",
   "execution_count": 23,
   "metadata": {},
   "outputs": [
    {
     "data": {
      "text/plain": [
       "{'the': 1,\n",
       " 'to': 2,\n",
       " 'and': 3,\n",
       " 'of': 4,\n",
       " 'a': 5,\n",
       " 'in': 6,\n",
       " 'is': 7,\n",
       " 'we': 8,\n",
       " 'for': 9,\n",
       " 'our': 10,\n",
       " 'i': 11,\n",
       " 'this': 12,\n",
       " 'will': 13,\n",
       " 'on': 14,\n",
       " 'you': 15,\n",
       " 'that': 16,\n",
       " 'it': 17,\n",
       " 'are': 18,\n",
       " 'be': 19,\n",
       " 'have': 20,\n",
       " 'with': 21,\n",
       " '—': 22,\n",
       " 'he': 23,\n",
       " 'president': 24,\n",
       " 'trump': 25,\n",
       " 'great': 26,\n",
       " 'they': 27,\n",
       " 'your': 28,\n",
       " 'has': 29,\n",
       " 'as': 30,\n",
       " 'not': 31,\n",
       " 'all': 32,\n",
       " 'amp': 33,\n",
       " 'my': 34,\n",
       " 'people': 35,\n",
       " 'who': 36,\n",
       " 'but': 37,\n",
       " 'was': 38,\n",
       " 'do': 39,\n",
       " 'at': 40,\n",
       " 'from': 41,\n",
       " 'by': 42,\n",
       " 'just': 43,\n",
       " 'donald': 44,\n",
       " 'more': 45,\n",
       " 'vote': 46,\n",
       " 'now': 47,\n",
       " 'his': 48,\n",
       " 'up': 49,\n",
       " 'if': 50,\n",
       " 'country': 51,\n",
       " 'get': 52,\n",
       " 'out': 53,\n",
       " 'american': 54,\n",
       " 'their': 55,\n",
       " 'no': 56,\n",
       " 'one': 57,\n",
       " 'need': 58,\n",
       " 'than': 59,\n",
       " 'so': 60,\n",
       " 'us': 61,\n",
       " 'thank': 62,\n",
       " 'can': 63,\n",
       " 'biden': 64,\n",
       " 'what': 65,\n",
       " 'america': 66,\n",
       " 'make': 67,\n",
       " 'today': 68,\n",
       " 'me': 69,\n",
       " 'or': 70,\n",
       " 'big': 71,\n",
       " 'an': 72,\n",
       " 'about': 73,\n",
       " 'very': 74,\n",
       " 'day': 75,\n",
       " 'time': 76,\n",
       " 'never': 77,\n",
       " 'been': 78,\n",
       " 'going': 79,\n",
       " 'new': 80,\n",
       " 'nation': 81,\n",
       " 'should': 82,\n",
       " 'news': 83,\n",
       " 'when': 84,\n",
       " 'back': 85,\n",
       " 'joe': 86,\n",
       " 'years': 87,\n",
       " 'them': 88,\n",
       " 'election': 89,\n",
       " 'like': 90,\n",
       " 'every': 91,\n",
       " 'together': 92,\n",
       " 'would': 93,\n",
       " 'help': 94,\n",
       " 'fake': 95,\n",
       " 'it’s': 96,\n",
       " '”': 97,\n",
       " 'many': 98,\n",
       " 'job': 99,\n",
       " 'him': 100,\n",
       " 'over': 101,\n",
       " 'want': 102,\n",
       " 'how': 103,\n",
       " 'house': 104,\n",
       " 'americans': 105,\n",
       " 'win': 106,\n",
       " 'way': 107,\n",
       " 'states': 108,\n",
       " 'there': 109,\n",
       " 'even': 110,\n",
       " 'total': 111,\n",
       " 'state': 112,\n",
       " 'take': 113,\n",
       " 'work': 114,\n",
       " 'democrats': 115,\n",
       " 'endorsement': 116,\n",
       " 'white': 117,\n",
       " 'covid': 118,\n",
       " 'know': 119,\n",
       " 'care': 120,\n",
       " 'campaign': 121,\n",
       " 'better': 122,\n",
       " 'again': 123,\n",
       " 'done': 124,\n",
       " 'doing': 125,\n",
       " \"it's\": 126,\n",
       " 'because': 127,\n",
       " 'complete': 128,\n",
       " 'down': 129,\n",
       " 'health': 130,\n",
       " 'left': 131,\n",
       " 'were': 132,\n",
       " 'crisis': 133,\n",
       " 'must': 134,\n",
       " 'much': 135,\n",
       " 'only': 136,\n",
       " 'good': 137,\n",
       " 'other': 138,\n",
       " 'history': 139,\n",
       " 'always': 140,\n",
       " 'jobs': 141,\n",
       " 'these': 142,\n",
       " 'world': 143,\n",
       " 'ever': 144,\n",
       " 'before': 145,\n",
       " 'see': 146,\n",
       " 'had': 147,\n",
       " 'let': 148,\n",
       " 'most': 149,\n",
       " 'last': 150,\n",
       " '19': 151,\n",
       " 'don’t': 152,\n",
       " 'nothing': 153,\n",
       " 'first': 154,\n",
       " 'got': 155,\n",
       " 'right': 156,\n",
       " 'made': 157,\n",
       " 'which': 158,\n",
       " 'hard': 159,\n",
       " 'go': 160,\n",
       " 'everyone': 161,\n",
       " 'economy': 162,\n",
       " 'strong': 163,\n",
       " 'i’m': 164,\n",
       " 'military': 165,\n",
       " 'against': 166,\n",
       " 'folks': 167,\n",
       " 'am': 168,\n",
       " 'amendment': 169,\n",
       " 'her': 170,\n",
       " 'china': 171,\n",
       " 'fight': 172,\n",
       " 'support': 173,\n",
       " 'second': 174,\n",
       " 'united': 175,\n",
       " 'any': 176,\n",
       " 'into': 177,\n",
       " 'said': 178,\n",
       " 'administration': 179,\n",
       " 'did': 180,\n",
       " 'maga': 181,\n",
       " 'working': 182,\n",
       " 'protect': 183,\n",
       " 'law': 184,\n",
       " 'those': 185,\n",
       " 'also': 186,\n",
       " 'keep': 187,\n",
       " 'come': 188,\n",
       " 'after': 189,\n",
       " 'life': 190,\n",
       " 's': 191,\n",
       " 'democrat': 192,\n",
       " 'media': 193,\n",
       " \"i'm\": 194,\n",
       " 'she': 195,\n",
       " 'tune': 196,\n",
       " 'being': 197,\n",
       " \"we're\": 198,\n",
       " 'far': 199,\n",
       " 'end': 200,\n",
       " 'bad': 201,\n",
       " 'workers': 202,\n",
       " 'long': 203,\n",
       " 'future': 204,\n",
       " 'u': 205,\n",
       " 'build': 206,\n",
       " 'national': 207,\n",
       " 'federal': 208,\n",
       " 'through': 209,\n",
       " 'lives': 210,\n",
       " 'radical': 211,\n",
       " 'why': 212,\n",
       " 'coronavirus': 213,\n",
       " 'days': 214,\n",
       " 'can’t': 215,\n",
       " 'sleepy': 216,\n",
       " 'pennsylvania': 217,\n",
       " 'where': 218,\n",
       " 'night': 219,\n",
       " '000': 220,\n",
       " 'we’re': 221,\n",
       " 'well': 222,\n",
       " 'virus': 223,\n",
       " 'watch': 224,\n",
       " 'another': 225,\n",
       " 'best': 226,\n",
       " 'million': 227,\n",
       " 'away': 228,\n",
       " 'november': 229,\n",
       " 'safe': 230,\n",
       " 'everything': 231,\n",
       " 'stand': 232,\n",
       " 'republican': 233,\n",
       " 'court': 234,\n",
       " 'party': 235,\n",
       " 'act': 236,\n",
       " 'family': 237,\n",
       " 'until': 238,\n",
       " 'put': 239,\n",
       " 'across': 240,\n",
       " 'tonight': 241,\n",
       " 'chip': 242,\n",
       " 'important': 243,\n",
       " 'incredible': 244,\n",
       " 'things': 245,\n",
       " 'ballot': 246,\n",
       " 'look': 247,\n",
       " 'say': 248,\n",
       " 'head': 249,\n",
       " 'vets': 250,\n",
       " 'early': 251,\n",
       " 'two': 252,\n",
       " 'crime': 253,\n",
       " 'voting': 254,\n",
       " 'give': 255,\n",
       " 'testing': 256,\n",
       " 'millions': 257,\n",
       " 'hope': 258,\n",
       " 'under': 259,\n",
       " 'plan': 260,\n",
       " 'corrupt': 261,\n",
       " 'power': 262,\n",
       " 'justice': 263,\n",
       " 'failed': 264,\n",
       " 'others': 265,\n",
       " 'congressman': 266,\n",
       " 'then': 267,\n",
       " 'government': 268,\n",
       " 'year': 269,\n",
       " 'economic': 270,\n",
       " 'really': 271,\n",
       " 'honor': 272,\n",
       " 'families': 273,\n",
       " 'believe': 274,\n",
       " 'change': 275,\n",
       " 'pandemic': 276,\n",
       " 'could': 277,\n",
       " 'order': 278,\n",
       " 'political': 279,\n",
       " 'ensure': 280,\n",
       " 'violence': 281,\n",
       " 'proud': 282,\n",
       " 'too': 283,\n",
       " 'obama': 284,\n",
       " 'carolina': 285,\n",
       " 'person': 286,\n",
       " 'soon': 287,\n",
       " 'doesn’t': 288,\n",
       " 'thing': 289,\n",
       " 'some': 290,\n",
       " 'congress': 291,\n",
       " 'leadership': 292,\n",
       " 'didn’t': 293,\n",
       " 'join': 294,\n",
       " 'place': 295,\n",
       " 'i’ll': 296,\n",
       " 'four': 297,\n",
       " 'running': 298,\n",
       " 'times': 299,\n",
       " 'action': 300,\n",
       " 'moment': 301,\n",
       " 'clear': 302,\n",
       " 'deal': 303,\n",
       " 'public': 304,\n",
       " 'getting': 305,\n",
       " 'real': 306,\n",
       " 'm': 307,\n",
       " 'bring': 308,\n",
       " 'love': 309,\n",
       " 'republicans': 310,\n",
       " 'promise': 311,\n",
       " 'mike': 312,\n",
       " \"can't\": 313,\n",
       " 'next': 314,\n",
       " 'its': 315,\n",
       " 'happen': 316,\n",
       " 'small': 317,\n",
       " \"i'll\": 318,\n",
       " 'taxes': 319,\n",
       " 'coming': 320,\n",
       " 'ballots': 321,\n",
       " 'beat': 322,\n",
       " 'still': 323,\n",
       " 'polls': 324,\n",
       " 'live': 325,\n",
       " 'senate': 326,\n",
       " 'money': 327,\n",
       " 'police': 328,\n",
       " 'lead': 329,\n",
       " 'stop': 330,\n",
       " 'off': 331,\n",
       " 'john': 332,\n",
       " 'mail': 333,\n",
       " 'washington': 334,\n",
       " 'truth': 335,\n",
       " 'security': 336,\n",
       " 'bernie': 337,\n",
       " 'usa': 338,\n",
       " 'ready': 339,\n",
       " 'few': 340,\n",
       " 'open': 341,\n",
       " 'ago': 342,\n",
       " 'sure': 343,\n",
       " 'pay': 344,\n",
       " 'trying': 345,\n",
       " 'border': 346,\n",
       " 'michigan': 347,\n",
       " 'dems': 348,\n",
       " 'middle': 349,\n",
       " 'record': 350,\n",
       " 'york': 351,\n",
       " 'senator': 352,\n",
       " 'florida': 353,\n",
       " 'that’s': 354,\n",
       " 'called': 355,\n",
       " 'climate': 356,\n",
       " 'soul': 357,\n",
       " 'hoax': 358,\n",
       " 'wants': 359,\n",
       " 'p': 360,\n",
       " 'won’t': 361,\n",
       " 'supreme': 362,\n",
       " 'numbers': 363,\n",
       " 'he’s': 364,\n",
       " 'yet': 365,\n",
       " 'high': 366,\n",
       " 'lost': 367,\n",
       " 'run': 368,\n",
       " 'while': 369,\n",
       " 'full': 370,\n",
       " '3': 371,\n",
       " 'governor': 372,\n",
       " 'congratulations': 373,\n",
       " '–': 374,\n",
       " 'without': 375,\n",
       " 'making': 376,\n",
       " 'russia': 377,\n",
       " 'crazy': 378,\n",
       " 'around': 379,\n",
       " 'community': 380,\n",
       " '1': 381,\n",
       " 'during': 382,\n",
       " 'may': 383,\n",
       " 'deserve': 384,\n",
       " 'home': 385,\n",
       " 'totally': 386,\n",
       " 'women': 387,\n",
       " 'wisconsin': 388,\n",
       " 'tax': 389,\n",
       " 'iowa': 390,\n",
       " 'call': 391,\n",
       " 'same': 392,\n",
       " 'i’ve': 393,\n",
       " 'happy': 394,\n",
       " 'wrong': 395,\n",
       " \"we've\": 396,\n",
       " 'north': 397,\n",
       " 'does': 398,\n",
       " 'think': 399,\n",
       " 'possible': 400,\n",
       " 'remember': 401,\n",
       " 'single': 402,\n",
       " 'lot': 403,\n",
       " 'impeachment': 404,\n",
       " 'continue': 405,\n",
       " 'forward': 406,\n",
       " '5': 407,\n",
       " 'cases': 408,\n",
       " 'taking': 409,\n",
       " 'worst': 410,\n",
       " 'stronger': 411,\n",
       " 'please': 412,\n",
       " 'fast': 413,\n",
       " 'businesses': 414,\n",
       " 'texas': 415,\n",
       " 'immediately': 416,\n",
       " 'enforcement': 417,\n",
       " 'energy': 418,\n",
       " 'number': 419,\n",
       " 'battle': 420,\n",
       " '2016': 421,\n",
       " 'true': 422,\n",
       " 'gun': 423,\n",
       " 'enough': 424,\n",
       " 'price': 425,\n",
       " 'including': 426,\n",
       " 'matter': 427,\n",
       " 'close': 428,\n",
       " 'chance': 429,\n",
       " 'here': 430,\n",
       " 'tomorrow': 431,\n",
       " 'fact': 432,\n",
       " 'tremendous': 433,\n",
       " 'you’re': 434,\n",
       " 'office': 435,\n",
       " 'story': 436,\n",
       " 'rights': 437,\n",
       " 'elected': 438,\n",
       " 'trump’s': 439,\n",
       " 'greatest': 440,\n",
       " 'months': 441,\n",
       " 'dollars': 442,\n",
       " 'bill': 443,\n",
       " '00': 444,\n",
       " 'response': 445,\n",
       " 'use': 446,\n",
       " 'let’s': 447,\n",
       " 'mini': 448,\n",
       " 'own': 449,\n",
       " 'tough': 450,\n",
       " 'once': 451,\n",
       " 'show': 452,\n",
       " 'fair': 453,\n",
       " 'anyone': 454,\n",
       " 'ahead': 455,\n",
       " 'wall': 456,\n",
       " 'week': 457,\n",
       " 'iran': 458,\n",
       " 'jill': 459,\n",
       " 'paying': 460,\n",
       " 'black': 461,\n",
       " 'wonderful': 462,\n",
       " 'race': 463,\n",
       " 'book': 464,\n",
       " 'control': 465,\n",
       " 'friends': 466,\n",
       " 'else': 467,\n",
       " 'already': 468,\n",
       " '3rd': 469,\n",
       " 'looking': 470,\n",
       " 'needed': 471,\n",
       " 'stay': 472,\n",
       " 'able': 473,\n",
       " 'heard': 474,\n",
       " 'having': 475,\n",
       " 'pelosi': 476,\n",
       " 'given': 477,\n",
       " 'sign': 478,\n",
       " 'friend': 479,\n",
       " 'presidential': 480,\n",
       " 'man': 481,\n",
       " 'countries': 482,\n",
       " 'nancy': 483,\n",
       " 'respect': 484,\n",
       " 'since': 485,\n",
       " 'cannot': 486,\n",
       " 'knows': 487,\n",
       " 'rally': 488,\n",
       " 'words': 489,\n",
       " '4': 490,\n",
       " 'debate': 491,\n",
       " '10': 492,\n",
       " 'biggest': 493,\n",
       " 'war': 494,\n",
       " 'south': 495,\n",
       " 'conference': 496,\n",
       " 'loves': 497,\n",
       " 'lamestream': 498,\n",
       " 'service': 499,\n",
       " 'low': 500,\n",
       " 'hit': 501,\n",
       " 'mr': 502,\n",
       " '2': 503,\n",
       " 'both': 504,\n",
       " 'poll': 505,\n",
       " 'tell': 506,\n",
       " 'comes': 507,\n",
       " 'create': 508,\n",
       " 'needs': 509,\n",
       " 'ban': 510,\n",
       " 'nevada': 511,\n",
       " 'safety': 512,\n",
       " 'save': 513,\n",
       " 'choice': 514,\n",
       " 'choose': 515,\n",
       " 'free': 516,\n",
       " 'defeat': 517,\n",
       " 'communities': 518,\n",
       " 'approval': 519,\n",
       " 'send': 520,\n",
       " 'leaders': 521,\n",
       " 'we’ve': 522,\n",
       " 'hate': 523,\n",
       " 'anything': 524,\n",
       " 'class': 525,\n",
       " 'there’s': 526,\n",
       " \"don't\": 527,\n",
       " 'social': 528,\n",
       " 'step': 529,\n",
       " 'cut': 530,\n",
       " 'cities': 531,\n",
       " 'defend': 532,\n",
       " \"trump's\": 533,\n",
       " 'three': 534,\n",
       " 'trade': 535,\n",
       " 'mayor': 536,\n",
       " 'face': 537,\n",
       " 'line': 538,\n",
       " 'fighting': 539,\n",
       " 'threat': 540,\n",
       " 'finally': 541,\n",
       " 'set': 542,\n",
       " 'badly': 543,\n",
       " 'general': 544,\n",
       " 'demdebate': 545,\n",
       " 'strongly': 546,\n",
       " 'votes': 547,\n",
       " 'voice': 548,\n",
       " 'de': 549,\n",
       " 'entire': 550,\n",
       " \"that's\": 551,\n",
       " 'farmers': 552,\n",
       " 'lower': 553,\n",
       " 'morning': 554,\n",
       " \"we'll\": 555,\n",
       " 'instead': 556,\n",
       " 'thousands': 557,\n",
       " 'used': 558,\n",
       " 'minnesota': 559,\n",
       " 'virginia': 560,\n",
       " 'won': 561,\n",
       " 'wins': 562,\n",
       " 'supports': 563,\n",
       " 'restore': 564,\n",
       " 'listen': 565,\n",
       " '30': 566,\n",
       " 'took': 567,\n",
       " 'between': 568,\n",
       " 'read': 569,\n",
       " 'city': 570,\n",
       " 'disaster': 571,\n",
       " 'front': 572,\n",
       " 'borders': 573,\n",
       " 'anarchists': 574,\n",
       " 'rating': 575,\n",
       " 'quickly': 576,\n",
       " 'powerful': 577,\n",
       " 'obamacare': 578,\n",
       " 'pass': 579,\n",
       " 'guard': 580,\n",
       " '“the': 581,\n",
       " 'massive': 582,\n",
       " 'system': 583,\n",
       " 'discuss': 584,\n",
       " 'access': 585,\n",
       " 'victory': 586,\n",
       " 'politics': 587,\n",
       " 'arizona': 588,\n",
       " 'little': 589,\n",
       " 'lies': 590,\n",
       " 'past': 591,\n",
       " 'less': 592,\n",
       " 'actually': 593,\n",
       " 'term': 594,\n",
       " '100': 595,\n",
       " '9': 596,\n",
       " 'along': 597,\n",
       " 'guy': 598,\n",
       " 'business': 599,\n",
       " 'funding': 600,\n",
       " 'press': 601,\n",
       " '2020': 602,\n",
       " 'late': 603,\n",
       " 'jim': 604,\n",
       " 'such': 605,\n",
       " '2a': 606,\n",
       " 'turn': 607,\n",
       " 'team': 608,\n",
       " 'especially': 609,\n",
       " 'stake': 610,\n",
       " 'final': 611,\n",
       " 'tuesday': 612,\n",
       " 'become': 613,\n",
       " 'death': 614,\n",
       " \"i've\": 615,\n",
       " 'grateful': 616,\n",
       " \"you're\": 617,\n",
       " 'town': 618,\n",
       " 'ohio': 619,\n",
       " 'california': 620,\n",
       " 'fully': 621,\n",
       " 'ratings': 622,\n",
       " 'voted': 623,\n",
       " 'georgia': 624,\n",
       " 'voters': 625,\n",
       " 'gets': 626,\n",
       " 'paid': 627,\n",
       " 'seen': 628,\n",
       " 'makes': 629,\n",
       " 'decision': 630,\n",
       " 'asked': 631,\n",
       " 'went': 632,\n",
       " 'relief': 633,\n",
       " 'deliver': 634,\n",
       " 'start': 635,\n",
       " 'scam': 636,\n",
       " 'path': 637,\n",
       " 'experts': 638,\n",
       " 'faith': 639,\n",
       " 'part': 640,\n",
       " 'isn’t': 641,\n",
       " 'pm': 642,\n",
       " 'almost': 643,\n",
       " 'brave': 644,\n",
       " 'billion': 645,\n",
       " 'agenda': 646,\n",
       " 'terrible': 647,\n",
       " 'tom': 648,\n",
       " 'prayers': 649,\n",
       " 'sick': 650,\n",
       " 'mask': 651,\n",
       " 'thanks': 652,\n",
       " 'democracy': 653,\n",
       " 'fear': 654,\n",
       " 'overcome': 655,\n",
       " 'wanted': 656,\n",
       " 'heroes': 657,\n",
       " 'hear': 658,\n",
       " 'allow': 659,\n",
       " 'report': 660,\n",
       " 'ventilators': 661,\n",
       " 'science': 662,\n",
       " 'wealthy': 663,\n",
       " 'opportunity': 664,\n",
       " 'works': 665,\n",
       " 'force': 666,\n",
       " 'primary': 667,\n",
       " 'leader': 668,\n",
       " 'nobody': 669,\n",
       " 'rate': 670,\n",
       " 'biden’s': 671,\n",
       " 'governors': 672,\n",
       " 'prices': 673,\n",
       " 'allowed': 674,\n",
       " 'nearly': 675,\n",
       " 'values': 676,\n",
       " 'schools': 677,\n",
       " 'god': 678,\n",
       " 'bigger': 679,\n",
       " 'month': 680,\n",
       " 'couldn’t': 681,\n",
       " '7': 682,\n",
       " 'yesterday': 683,\n",
       " 'meet': 684,\n",
       " 'global': 685,\n",
       " 'enjoy': 686,\n",
       " 'stage': 687,\n",
       " 'super': 688,\n",
       " 'hall': 689,\n",
       " 'destroy': 690,\n",
       " 'moving': 691,\n",
       " 'truly': 692,\n",
       " 'portland': 693,\n",
       " 'demconvention': 694,\n",
       " 'fraud': 695,\n",
       " 'problem': 696,\n",
       " 'sanders': 697,\n",
       " 'healthcare': 698,\n",
       " 'beautiful': 699,\n",
       " 'local': 700,\n",
       " 'recovery': 701,\n",
       " 'taken': 702,\n",
       " 'keeping': 703,\n",
       " 'wait': 704,\n",
       " 'dignity': 705,\n",
       " 'brought': 706,\n",
       " 'saved': 707,\n",
       " 'worse': 708,\n",
       " 'major': 709,\n",
       " 'heading': 710,\n",
       " 'hampshire': 711,\n",
       " 'safely': 712,\n",
       " 'whether': 713,\n",
       " 'men': 714,\n",
       " 'supporters': 715,\n",
       " 'talk': 716,\n",
       " 'lines': 717,\n",
       " 'fighter': 718,\n",
       " 'highest': 719,\n",
       " 'case': 720,\n",
       " 'weak': 721,\n",
       " 'winning': 722,\n",
       " 'former': 723,\n",
       " 'msdnc': 724,\n",
       " 'affordable': 725,\n",
       " 'provide': 726,\n",
       " 'each': 727,\n",
       " 'progress': 728,\n",
       " \"let's\": 729,\n",
       " 'shot': 730,\n",
       " 'vaccine': 731,\n",
       " 'came': 732,\n",
       " 'unemployment': 733,\n",
       " 'equality': 734,\n",
       " 'market': 735,\n",
       " 'west': 736,\n",
       " 'c': 737,\n",
       " 'caught': 738,\n",
       " 'happened': 739,\n",
       " 'thought': 740,\n",
       " 'drug': 741,\n",
       " 'beginning': 742,\n",
       " 'built': 743,\n",
       " 'spent': 744,\n",
       " 'ask': 745,\n",
       " 'division': 746,\n",
       " 'la': 747,\n",
       " 'character': 748,\n",
       " 'young': 749,\n",
       " 'told': 750,\n",
       " 'et': 751,\n",
       " 'hardworking': 752,\n",
       " 'knew': 753,\n",
       " 'find': 754,\n",
       " 'higher': 755,\n",
       " 'citizens': 756,\n",
       " 'unite': 757,\n",
       " 'starts': 758,\n",
       " 'happening': 759,\n",
       " 'd': 760,\n",
       " 'means': 761,\n",
       " 'companies': 762,\n",
       " 'based': 763,\n",
       " 'highly': 764,\n",
       " 'wow': 765,\n",
       " 'conditions': 766,\n",
       " 'watching': 767,\n",
       " 'honored': 768,\n",
       " 'absentee': 769,\n",
       " 'union': 770,\n",
       " 'equal': 771,\n",
       " 'peace': 772,\n",
       " 'building': 773,\n",
       " 'register': 774,\n",
       " 'courage': 775,\n",
       " 'request': 776,\n",
       " '11': 777,\n",
       " 'something': 778,\n",
       " 'rigged': 779,\n",
       " 'loved': 780,\n",
       " 'died': 781,\n",
       " \"won't\": 782,\n",
       " 'simple': 783,\n",
       " 'here’s': 784,\n",
       " 'return': 785,\n",
       " 'spread': 786,\n",
       " 'top': 787,\n",
       " 'talking': 788,\n",
       " 'freedom': 789,\n",
       " 'zero': 790,\n",
       " 'check': 791,\n",
       " 'we’ll': 792,\n",
       " 'helped': 793,\n",
       " 'point': 794,\n",
       " 'politician': 795,\n",
       " '2nd': 796,\n",
       " 'foreign': 797,\n",
       " 'worked': 798,\n",
       " 'questions': 799,\n",
       " 'y': 800,\n",
       " 'dr': 801,\n",
       " \"here's\": 802,\n",
       " 'gave': 803,\n",
       " 'period': 804,\n",
       " 'helping': 805,\n",
       " 'stock': 806,\n",
       " 'enemy': 807,\n",
       " '8': 808,\n",
       " 'weeks': 809,\n",
       " 'candidate': 810,\n",
       " 'smart': 811,\n",
       " 'easy': 812,\n",
       " 'nomination': 813,\n",
       " 'agree': 814,\n",
       " 'fantastic': 815,\n",
       " 'responsibility': 816,\n",
       " 'harris': 817,\n",
       " 'heart': 818,\n",
       " 'counted': 819,\n",
       " 'asking': 820,\n",
       " 'combat': 821,\n",
       " 'cost': 822,\n",
       " \"there's\": 823,\n",
       " 'further': 824,\n",
       " 'what’s': 825,\n",
       " 'leading': 826,\n",
       " 'neighbors': 827,\n",
       " 'schumer': 828,\n",
       " 'emergency': 829,\n",
       " 'leave': 830,\n",
       " 'special': 831,\n",
       " 'rebuild': 832,\n",
       " 'attack': 833,\n",
       " 'word': 834,\n",
       " 'share': 835,\n",
       " 'saying': 836,\n",
       " 'epidemic': 837,\n",
       " '15': 838,\n",
       " '50': 839,\n",
       " 'school': 840,\n",
       " 'funds': 841,\n",
       " 'chris': 842,\n",
       " 'illegal': 843,\n",
       " 'witch': 844,\n",
       " 'ones': 845,\n",
       " 'pre': 846,\n",
       " 'behind': 847,\n",
       " 'move': 848,\n",
       " 'twitter': 849,\n",
       " 'started': 850,\n",
       " 'fights': 851,\n",
       " 'himself': 852,\n",
       " 'forget': 853,\n",
       " 'different': 854,\n",
       " 'released': 855,\n",
       " 'corruption': 856,\n",
       " 'idea': 857,\n",
       " 'conversation': 858,\n",
       " 'unacceptable': 859,\n",
       " 'seeing': 860,\n",
       " 'wouldn’t': 861,\n",
       " 'goes': 862,\n",
       " 'understand': 863,\n",
       " 'reform': 864,\n",
       " 'dangerous': 865,\n",
       " 'convention': 866,\n",
       " 'despite': 867,\n",
       " 'equipment': 868,\n",
       " '47': 869,\n",
       " 'information': 870,\n",
       " 'fracking': 871,\n",
       " 'plus': 872,\n",
       " 'eastern': 873,\n",
       " 'kag2020': 874,\n",
       " 'officials': 875,\n",
       " 'facing': 876,\n",
       " '6': 877,\n",
       " '20': 878,\n",
       " 'alone': 879,\n",
       " 'protections': 880,\n",
       " 'vice': 881,\n",
       " 'whole': 882,\n",
       " 'voter': 883,\n",
       " 'infrastructure': 884,\n",
       " 'que': 885,\n",
       " 'longer': 886,\n",
       " \"he's\": 887,\n",
       " 'failure': 888,\n",
       " 'says': 889,\n",
       " 'celebrate': 890,\n",
       " 'starting': 891,\n",
       " 'momentum': 892,\n",
       " 'deaths': 893,\n",
       " 'standing': 894,\n",
       " 'later': 895,\n",
       " 'name': 896,\n",
       " 'gone': 897,\n",
       " 'hillary': 898,\n",
       " 'rather': 899,\n",
       " 'crowd': 900,\n",
       " 'reason': 901,\n",
       " 'incompetent': 902,\n",
       " 'phony': 903,\n",
       " 'hands': 904,\n",
       " 'address': 905,\n",
       " 'efforts': 906,\n",
       " 'takes': 907,\n",
       " 'passed': 908,\n",
       " 'stories': 909,\n",
       " 'cast': 910,\n",
       " 'nice': 911,\n",
       " 'secretary': 912,\n",
       " 'closely': 913,\n",
       " 'lose': 914,\n",
       " 'sad': 915,\n",
       " 'policies': 916,\n",
       " 'answer': 917,\n",
       " 'march': 918,\n",
       " 'children': 919,\n",
       " 'transit': 920,\n",
       " 'signed': 921,\n",
       " 'supporter': 922,\n",
       " 'bloomberg': 923,\n",
       " 'wish': 924,\n",
       " 'existing': 925,\n",
       " 'chief': 926,\n",
       " 'expand': 927,\n",
       " 'america’s': 928,\n",
       " 'process': 929,\n",
       " 'count': 930,\n",
       " 'rest': 931,\n",
       " 'polling': 932,\n",
       " 'they’re': 933,\n",
       " 'course': 934,\n",
       " 'strength': 935,\n",
       " 'difference': 936,\n",
       " 'treated': 937,\n",
       " 'weapons': 938,\n",
       " 'el': 939,\n",
       " 'putting': 940,\n",
       " 'hold': 941,\n",
       " 'growth': 942,\n",
       " 'grassroots': 943,\n",
       " 'spoke': 944,\n",
       " 'masks': 945,\n",
       " 'test': 946,\n",
       " 'successful': 947,\n",
       " 'sending': 948,\n",
       " 'play': 949,\n",
       " 'perhaps': 950,\n",
       " 'ridiculous': 951,\n",
       " 'interviewed': 952,\n",
       " 'steve': 953,\n",
       " 'chuck': 954,\n",
       " 'crooked': 955,\n",
       " 'reported': 956,\n",
       " 'common': 957,\n",
       " 'speaking': 958,\n",
       " 'purpose': 959,\n",
       " 'racism': 960,\n",
       " 'continues': 961,\n",
       " 'waste': 962,\n",
       " 'mistake': 963,\n",
       " 'trial': 964,\n",
       " 'risk': 965,\n",
       " 'anniversary': 966,\n",
       " 'george': 967,\n",
       " 'flag': 968,\n",
       " 'lie': 969,\n",
       " 'throughout': 970,\n",
       " 'v': 971,\n",
       " 'mark': 972,\n",
       " 'historic': 973,\n",
       " 'playing': 974,\n",
       " 'minneapolis': 975,\n",
       " 'mess': 976,\n",
       " 'fox': 977,\n",
       " 'puppet': 978,\n",
       " 'mueller': 979,\n",
       " 'favorite': 980,\n",
       " 'serve': 981,\n",
       " 'large': 982,\n",
       " 'corporations': 983,\n",
       " 'goal': 984,\n",
       " 'pain': 985,\n",
       " 'food': 986,\n",
       " 'side': 987,\n",
       " 'statement': 988,\n",
       " 'online': 989,\n",
       " 'wasn’t': 990,\n",
       " 'sent': 991,\n",
       " 'raise': 992,\n",
       " 'calls': 993,\n",
       " 'elections': 994,\n",
       " 'michael': 995,\n",
       " 'medicare': 996,\n",
       " 'easily': 997,\n",
       " 'illegally': 998,\n",
       " 'swamp': 999,\n",
       " 'hunt': 1000,\n",
       " ...}"
      ]
     },
     "execution_count": 23,
     "metadata": {},
     "output_type": "execute_result"
    }
   ],
   "source": [
    "tokenizer.word_index"
   ]
  },
  {
   "cell_type": "code",
   "execution_count": 25,
   "metadata": {},
   "outputs": [],
   "source": [
    "x_train_tokens = tokenizer.texts_to_sequences(X_train)"
   ]
  },
  {
   "cell_type": "code",
   "execution_count": 26,
   "metadata": {},
   "outputs": [],
   "source": [
    "x_test_tokens = tokenizer.texts_to_sequences(X_test)"
   ]
  },
  {
   "cell_type": "code",
   "execution_count": 27,
   "metadata": {},
   "outputs": [],
   "source": [
    "num_tokens = [len(tokens) for tokens in x_train_tokens + x_test_tokens]\n",
    "num_tokens = np.array(num_tokens)"
   ]
  },
  {
   "cell_type": "code",
   "execution_count": 28,
   "metadata": {},
   "outputs": [
    {
     "data": {
      "text/plain": [
       "array([52, 32, 45, ..., 42, 15, 46])"
      ]
     },
     "execution_count": 28,
     "metadata": {},
     "output_type": "execute_result"
    }
   ],
   "source": [
    "num_tokens"
   ]
  },
  {
   "cell_type": "code",
   "execution_count": 29,
   "metadata": {},
   "outputs": [
    {
     "data": {
      "text/plain": [
       "29.552545738193164"
      ]
     },
     "execution_count": 29,
     "metadata": {},
     "output_type": "execute_result"
    }
   ],
   "source": [
    "np.mean(num_tokens)"
   ]
  },
  {
   "cell_type": "code",
   "execution_count": 30,
   "metadata": {},
   "outputs": [
    {
     "data": {
      "text/plain": [
       "60"
      ]
     },
     "execution_count": 30,
     "metadata": {},
     "output_type": "execute_result"
    }
   ],
   "source": [
    "np.max(num_tokens)"
   ]
  },
  {
   "cell_type": "code",
   "execution_count": 31,
   "metadata": {},
   "outputs": [
    {
     "data": {
      "text/plain": [
       "57"
      ]
     },
     "execution_count": 31,
     "metadata": {},
     "output_type": "execute_result"
    }
   ],
   "source": [
    "max_tokens = np.mean(num_tokens) + 2 * np.std(num_tokens)\n",
    "max_tokens = int(max_tokens)\n",
    "max_tokens"
   ]
  },
  {
   "cell_type": "code",
   "execution_count": 32,
   "metadata": {},
   "outputs": [
    {
     "data": {
      "text/plain": [
       "0.9992908807261381"
      ]
     },
     "execution_count": 32,
     "metadata": {},
     "output_type": "execute_result"
    }
   ],
   "source": [
    "np.sum(num_tokens < max_tokens) / len(num_tokens)"
   ]
  },
  {
   "cell_type": "code",
   "execution_count": 33,
   "metadata": {},
   "outputs": [],
   "source": [
    "pad = 'pre'\n",
    "x_train_pad = pad_sequences(x_train_tokens, maxlen=max_tokens,\n",
    "                            padding=pad, truncating=pad)\n"
   ]
  },
  {
   "cell_type": "code",
   "execution_count": 34,
   "metadata": {},
   "outputs": [],
   "source": [
    "x_test_pad = pad_sequences(x_test_tokens, maxlen=max_tokens,\n",
    "                           padding=pad, truncating=pad)"
   ]
  },
  {
   "cell_type": "code",
   "execution_count": 35,
   "metadata": {},
   "outputs": [
    {
     "data": {
      "text/plain": [
       "(5288, 57)"
      ]
     },
     "execution_count": 35,
     "metadata": {},
     "output_type": "execute_result"
    }
   ],
   "source": [
    "x_train_pad.shape"
   ]
  },
  {
   "cell_type": "code",
   "execution_count": 36,
   "metadata": {},
   "outputs": [
    {
     "data": {
      "text/plain": [
       "(1763, 57)"
      ]
     },
     "execution_count": 36,
     "metadata": {},
     "output_type": "execute_result"
    }
   ],
   "source": [
    "x_test_pad.shape"
   ]
  },
  {
   "cell_type": "code",
   "execution_count": 37,
   "metadata": {},
   "outputs": [],
   "source": [
    "idx = tokenizer.word_index\n",
    "inverse_map = dict(zip(idx.values(), idx.keys()))"
   ]
  },
  {
   "cell_type": "code",
   "execution_count": 38,
   "metadata": {},
   "outputs": [],
   "source": [
    "def tokens_to_string(tokens):\n",
    "    # Map from tokens back to words.\n",
    "    words = [inverse_map[token] for token in tokens if token != 0]\n",
    "    \n",
    "    # Concatenate all words.\n",
    "    text = \" \".join(words)\n",
    "\n",
    "    return text"
   ]
  },
  {
   "cell_type": "code",
   "execution_count": 39,
   "metadata": {},
   "outputs": [
    {
     "data": {
      "text/plain": [
       "' to the millions of hindus, jains, sikhs, and buddhists celebrating the festival of lights,  and i send our best wishes for a #happydiwali. may your new year be filled with hope, happiness, and prosperity. sal mubarak.\\n'"
      ]
     },
     "execution_count": 39,
     "metadata": {},
     "output_type": "execute_result"
    }
   ],
   "source": [
    "X_train[1]"
   ]
  },
  {
   "cell_type": "code",
   "execution_count": 40,
   "metadata": {},
   "outputs": [
    {
     "data": {
      "text/plain": [
       "'our testing is the best in the world by far numbers are coming down in most parts of our country which wants to open and get going again it is happening safely'"
      ]
     },
     "execution_count": 40,
     "metadata": {},
     "output_type": "execute_result"
    }
   ],
   "source": [
    "tokens_to_string(x_train_tokens[1])"
   ]
  },
  {
   "cell_type": "code",
   "execution_count": 41,
   "metadata": {},
   "outputs": [],
   "source": [
    "model = Sequential()"
   ]
  },
  {
   "cell_type": "code",
   "execution_count": 42,
   "metadata": {},
   "outputs": [],
   "source": [
    "embedding_size = 8"
   ]
  },
  {
   "cell_type": "code",
   "execution_count": 43,
   "metadata": {},
   "outputs": [],
   "source": [
    "model.add(Embedding(input_dim=num_words,\n",
    "                    output_dim=embedding_size,\n",
    "                    input_length=max_tokens,\n",
    "                    name='layer_embedding'))"
   ]
  },
  {
   "cell_type": "code",
   "execution_count": 44,
   "metadata": {},
   "outputs": [],
   "source": [
    "model.add(GRU(units=16, return_sequences=True))\n",
    "model.add(GRU(units=8, return_sequences=True))\n",
    "model.add(GRU(units=4))\n",
    "model.add(Dense(1, activation='sigmoid'))\n",
    "optimizer = Adam(lr=1e-3)"
   ]
  },
  {
   "cell_type": "code",
   "execution_count": 45,
   "metadata": {},
   "outputs": [],
   "source": [
    "model.compile(loss='binary_crossentropy',\n",
    "              optimizer=optimizer,\n",
    "              metrics=['accuracy'])"
   ]
  },
  {
   "cell_type": "code",
   "execution_count": 46,
   "metadata": {},
   "outputs": [
    {
     "name": "stdout",
     "output_type": "stream",
     "text": [
      "Model: \"sequential\"\n",
      "_________________________________________________________________\n",
      "Layer (type)                 Output Shape              Param #   \n",
      "=================================================================\n",
      "layer_embedding (Embedding)  (None, 57, 8)             80000     \n",
      "_________________________________________________________________\n",
      "gru (GRU)                    (None, 57, 16)            1200      \n",
      "_________________________________________________________________\n",
      "gru_1 (GRU)                  (None, 57, 8)             600       \n",
      "_________________________________________________________________\n",
      "gru_2 (GRU)                  (None, 4)                 156       \n",
      "_________________________________________________________________\n",
      "dense (Dense)                (None, 1)                 5         \n",
      "=================================================================\n",
      "Total params: 81,961\n",
      "Trainable params: 81,961\n",
      "Non-trainable params: 0\n",
      "_________________________________________________________________\n"
     ]
    }
   ],
   "source": [
    "model.summary()"
   ]
  },
  {
   "cell_type": "code",
   "execution_count": 47,
   "metadata": {},
   "outputs": [
    {
     "name": "stdout",
     "output_type": "stream",
     "text": [
      "WARNING:tensorflow:From C:\\Users\\emmax\\anaconda3\\lib\\site-packages\\tensorflow\\python\\ops\\math_grad.py:1250: add_dispatch_support.<locals>.wrapper (from tensorflow.python.ops.array_ops) is deprecated and will be removed in a future version.\n",
      "Instructions for updating:\n",
      "Use tf.where in 2.0, which has the same broadcast rule as np.where\n"
     ]
    },
    {
     "name": "stderr",
     "output_type": "stream",
     "text": [
      "C:\\Users\\emmax\\anaconda3\\lib\\site-packages\\tensorflow\\python\\framework\\indexed_slices.py:414: UserWarning: Converting sparse IndexedSlices to a dense Tensor of unknown shape. This may consume a large amount of memory.\n",
      "  \"Converting sparse IndexedSlices to a dense Tensor of unknown shape. \"\n"
     ]
    },
    {
     "name": "stdout",
     "output_type": "stream",
     "text": [
      "Train on 5023 samples, validate on 265 samples\n",
      "Epoch 1/3\n",
      "5023/5023 [==============================] - 17s 3ms/sample - loss: 0.6526 - accuracy: 0.6114 - val_loss: 0.5125 - val_accuracy: 0.8340\n",
      "Epoch 2/3\n",
      "5023/5023 [==============================] - 11s 2ms/sample - loss: 0.3122 - accuracy: 0.9092 - val_loss: 0.2433 - val_accuracy: 0.9170\n",
      "Epoch 3/3\n",
      "5023/5023 [==============================] - 11s 2ms/sample - loss: 0.1568 - accuracy: 0.9675 - val_loss: 0.2051 - val_accuracy: 0.9358\n",
      "Wall time: 47.2 s\n"
     ]
    },
    {
     "data": {
      "text/plain": [
       "<tensorflow.python.keras.callbacks.History at 0x1edf9f3f088>"
      ]
     },
     "execution_count": 47,
     "metadata": {},
     "output_type": "execute_result"
    }
   ],
   "source": [
    "%%time\n",
    "model.fit(x_train_pad, y_train,\n",
    "          validation_split=0.05, epochs=3, batch_size=64)"
   ]
  },
  {
   "cell_type": "code",
   "execution_count": 49,
   "metadata": {},
   "outputs": [
    {
     "name": "stdout",
     "output_type": "stream",
     "text": [
      "1763/1763 [==============================] - 5s 3ms/sample - loss: 0.1818 - accuracy: 0.94552s - loss: 0.189 - ETA: 1s - loss: 0.1800  - ETA: 0s - loss: 0.1804 - \n",
      "Wall time: 5.28 s\n"
     ]
    }
   ],
   "source": [
    "%%time\n",
    "result = model.evaluate(x_test_pad, y_test)"
   ]
  },
  {
   "cell_type": "code",
   "execution_count": 50,
   "metadata": {},
   "outputs": [
    {
     "name": "stdout",
     "output_type": "stream",
     "text": [
      "Accuracy: 94.55%\n"
     ]
    }
   ],
   "source": [
    "print(\"Accuracy: {0:.2%}\".format(result[1]))"
   ]
  },
  {
   "cell_type": "code",
   "execution_count": 51,
   "metadata": {},
   "outputs": [
    {
     "name": "stdout",
     "output_type": "stream",
     "text": [
      "Wall time: 4.02 s\n"
     ]
    }
   ],
   "source": [
    "%%time\n",
    "y_pred = model.predict(x=x_test_pad[0:1000])\n",
    "y_pred = y_pred.T[0]"
   ]
  },
  {
   "cell_type": "code",
   "execution_count": 52,
   "metadata": {},
   "outputs": [],
   "source": [
    "cls_pred = np.array([1.0 if p>0.5 else 0.0 for p in y_pred])"
   ]
  },
  {
   "cell_type": "code",
   "execution_count": 53,
   "metadata": {},
   "outputs": [],
   "source": [
    "cls_true = np.array(y_test[0:1000])"
   ]
  },
  {
   "cell_type": "code",
   "execution_count": 54,
   "metadata": {},
   "outputs": [],
   "source": [
    "incorrect = np.where(cls_pred != cls_true)\n",
    "incorrect = incorrect[0]"
   ]
  },
  {
   "cell_type": "code",
   "execution_count": 55,
   "metadata": {},
   "outputs": [
    {
     "data": {
      "text/plain": [
       "57"
      ]
     },
     "execution_count": 55,
     "metadata": {},
     "output_type": "execute_result"
    }
   ],
   "source": [
    "len(incorrect)"
   ]
  },
  {
   "cell_type": "code",
   "execution_count": 56,
   "metadata": {},
   "outputs": [
    {
     "data": {
      "text/plain": [
       "1"
      ]
     },
     "execution_count": 56,
     "metadata": {},
     "output_type": "execute_result"
    }
   ],
   "source": [
    "idx = incorrect[0]\n",
    "idx"
   ]
  },
  {
   "cell_type": "code",
   "execution_count": 57,
   "metadata": {},
   "outputs": [
    {
     "data": {
      "text/plain": [
       "' during our contact tracing, we discovered around noon today that a member of the company that charters my airplane has also tested positive for covid. this crew member was on the plane with me, but was more than 50 feet away.   my covid test from last night came back negative.\\n'"
      ]
     },
     "execution_count": 57,
     "metadata": {},
     "output_type": "execute_result"
    }
   ],
   "source": [
    "text = X_test.to_list()[idx]\n",
    "text"
   ]
  },
  {
   "cell_type": "code",
   "execution_count": 58,
   "metadata": {},
   "outputs": [
    {
     "data": {
      "text/plain": [
       "0.07127687"
      ]
     },
     "execution_count": 58,
     "metadata": {},
     "output_type": "execute_result"
    }
   ],
   "source": [
    "y_pred[idx]"
   ]
  },
  {
   "cell_type": "code",
   "execution_count": 59,
   "metadata": {},
   "outputs": [
    {
     "data": {
      "text/plain": [
       "1"
      ]
     },
     "execution_count": 59,
     "metadata": {},
     "output_type": "execute_result"
    }
   ],
   "source": [
    "cls_true[idx]"
   ]
  },
  {
   "cell_type": "code",
   "execution_count": 60,
   "metadata": {},
   "outputs": [],
   "source": [
    "# trump tweet in Jan, 2020\n",
    "text1 = 'U.S. Cancer Death Rate Lowest In Recorded History! A lot of good news coming out of this Administration.'\n",
    "text2 = 'Breaking News: The Fifth Circuit Court of Appeals just reversed a lower court decision &amp; gave us the go ahead to build one of the largest sections of the desperately needed Southern Border Wall'\n",
    "text3 = 'Hope that all House Republicans will vote against Crazy Nancy Pelosiï War Powers Resolution'\n",
    "text4 = 'PRESIDENTIAL HARASSMENT!'\n",
    "text5 = 'IRAN WILL NEVER HAVE A NUCLEAR WEAPON!'\n",
    "text6 = 'The Impeachment Hoax'\n",
    "text7 = 'Congress &amp; the President should not be wasting their time and energy on a continuation of the totally partisan Impeachment Hoax when we have so many important matters pending. 196 to ZERO was the Republican House vote'\n",
    "text8 = 'These Media Posts will serve as notification to the United States Congress that should Iran strike any U.S. person or target'\n",
    "texts = [text1, text2, text3, text4, text5, text6, text7, text8]"
   ]
  },
  {
   "cell_type": "code",
   "execution_count": 61,
   "metadata": {},
   "outputs": [
    {
     "name": "stdout",
     "output_type": "stream",
     "text": [
      "['u.s. cancer death rate lowest in recorded history! a lot of good news coming out of this administration.', 'breaking news: the fifth circuit court of appeals just reversed a lower court decision &amp; gave us the go ahead to build one of the largest sections of the desperately needed southern border wall', 'hope that all house republicans will vote against crazy nancy pelosiï war powers resolution', 'presidential harassment!', 'iran will never have a nuclear weapon!', 'the impeachment hoax', 'congress &amp; the president should not be wasting their time and energy on a continuation of the totally partisan impeachment hoax when we have so many important matters pending. 196 to zero was the republican house vote', 'these media posts will serve as notification to the united states congress that should iran strike any u.s. person or target']\n"
     ]
    }
   ],
   "source": [
    "for i in range(len(texts)):\n",
    "    texts[i] = texts[i].lower()\n",
    "print(texts)"
   ]
  },
  {
   "cell_type": "code",
   "execution_count": 62,
   "metadata": {},
   "outputs": [
    {
     "data": {
      "text/plain": [
       "(8, 57)"
      ]
     },
     "execution_count": 62,
     "metadata": {},
     "output_type": "execute_result"
    }
   ],
   "source": [
    "tokens = tokenizer.texts_to_sequences(texts)\n",
    "\n",
    "tokens_pad = pad_sequences(tokens, maxlen=max_tokens,\n",
    "                           padding=pad, truncating=pad)\n",
    "tokens_pad.shape"
   ]
  },
  {
   "cell_type": "code",
   "execution_count": 63,
   "metadata": {},
   "outputs": [
    {
     "data": {
      "text/plain": [
       "array([[0.06831652],\n",
       "       [0.10973915],\n",
       "       [0.06825218],\n",
       "       [0.09696573],\n",
       "       [0.07500854],\n",
       "       [0.08453372],\n",
       "       [0.06762865],\n",
       "       [0.07581189]], dtype=float32)"
      ]
     },
     "execution_count": 63,
     "metadata": {},
     "output_type": "execute_result"
    }
   ],
   "source": [
    "model.predict(tokens_pad)"
   ]
  },
  {
   "cell_type": "code",
   "execution_count": 64,
   "metadata": {},
   "outputs": [],
   "source": [
    "text1 = \"I started the Cancer Moonshot so we could be the generation that finally cures cancer.  You then tried to slash nearly $1 billion for cancer funding.  We're lucky that the cancer rate is down\"\n",
    "text2 = 'This election is about the soul of America ï¿½ï¿½ï¿½ and a nation that allows our epidemic of school shootings to continue has a troubled soul. We have to beat the @NRA and get weapons of war off our streets. Lives depend on it.'\n",
    "text3 = 'Instead of using his statement today to lay out a coherent strategy on Iran'\n",
    "text4 = \"I'm thankful no one was hurt in last night's attack. But we're only in this mess because Donald Trump pulled out of the Iran Deal (which even his advisors said was working)\"\n",
    "text5 = \"Gabby is one of the strongest people I know. The resilience she has shown is remarkable. I'm inspired by her courage in turning tragedy into purpose and grateful for her relentless determination to make our country a safer place for all.\"\n",
    "text6 = 'Pope Francis is absolutely right. As a nation'\n",
    "text7 = 'We have to rebuild the middle class. But this time'\n",
    "text8 = 'I stand with the people of Puerto Rico'\n",
    "texts = [text1, text2, text3, text4, text5, text6, text7, text8]\n"
   ]
  },
  {
   "cell_type": "code",
   "execution_count": 65,
   "metadata": {},
   "outputs": [
    {
     "name": "stdout",
     "output_type": "stream",
     "text": [
      "[\"i started the cancer moonshot so we could be the generation that finally cures cancer.  you then tried to slash nearly $1 billion for cancer funding.  we're lucky that the cancer rate is down\", 'this election is about the soul of america ï¿½ï¿½ï¿½ and a nation that allows our epidemic of school shootings to continue has a troubled soul. we have to beat the @nra and get weapons of war off our streets. lives depend on it.', 'instead of using his statement today to lay out a coherent strategy on iran', \"i'm thankful no one was hurt in last night's attack. but we're only in this mess because donald trump pulled out of the iran deal (which even his advisors said was working)\", \"gabby is one of the strongest people i know. the resilience she has shown is remarkable. i'm inspired by her courage in turning tragedy into purpose and grateful for her relentless determination to make our country a safer place for all.\", 'pope francis is absolutely right. as a nation', 'we have to rebuild the middle class. but this time', 'i stand with the people of puerto rico']\n"
     ]
    }
   ],
   "source": [
    "for i in range(len(texts)):\n",
    "    texts[i] = texts[i].lower()\n",
    "print(texts)"
   ]
  },
  {
   "cell_type": "code",
   "execution_count": 66,
   "metadata": {},
   "outputs": [
    {
     "data": {
      "text/plain": [
       "(8, 57)"
      ]
     },
     "execution_count": 66,
     "metadata": {},
     "output_type": "execute_result"
    }
   ],
   "source": [
    "tokens = tokenizer.texts_to_sequences(texts)\n",
    "\n",
    "tokens_pad = pad_sequences(tokens, maxlen=max_tokens,\n",
    "                           padding=pad, truncating=pad)\n",
    "tokens_pad.shape"
   ]
  },
  {
   "cell_type": "code",
   "execution_count": 67,
   "metadata": {},
   "outputs": [
    {
     "data": {
      "text/plain": [
       "array([[0.91405   ],\n",
       "       [0.9202516 ],\n",
       "       [0.5377982 ],\n",
       "       [0.8379793 ],\n",
       "       [0.9191292 ],\n",
       "       [0.44956976],\n",
       "       [0.90064645],\n",
       "       [0.19991234]], dtype=float32)"
      ]
     },
     "execution_count": 67,
     "metadata": {},
     "output_type": "execute_result"
    }
   ],
   "source": [
    "model.predict(tokens_pad)"
   ]
  },
  {
   "cell_type": "code",
   "execution_count": 70,
   "metadata": {},
   "outputs": [],
   "source": [
    "model.save(\"politics_model_trained.h5\")"
   ]
  },
  {
   "cell_type": "code",
   "execution_count": 69,
   "metadata": {},
   "outputs": [
    {
     "name": "stdout",
     "output_type": "stream",
     "text": [
      "WARNING:tensorflow:Error in loading the saved optimizer state. As a result, your model is starting with a freshly initialized optimizer.\n"
     ]
    }
   ],
   "source": [
    "# Load the model\n",
    "from tensorflow.keras.models import load_model\n",
    "load_politics_model = load_model(\"politics_model_trained.h5\")"
   ]
  },
  {
   "cell_type": "code",
   "execution_count": null,
   "metadata": {},
   "outputs": [],
   "source": [
    "load_politics_model.predict(tokens_pad)"
   ]
  }
 ],
 "metadata": {
  "kernelspec": {
   "display_name": "Python 3",
   "language": "python",
   "name": "python3"
  },
  "language_info": {
   "codemirror_mode": {
    "name": "ipython",
    "version": 3
   },
   "file_extension": ".py",
   "mimetype": "text/x-python",
   "name": "python",
   "nbconvert_exporter": "python",
   "pygments_lexer": "ipython3",
   "version": "3.7.6"
  }
 },
 "nbformat": 4,
 "nbformat_minor": 4
}
