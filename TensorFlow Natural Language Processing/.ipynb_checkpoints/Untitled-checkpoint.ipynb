{
 "cells": [
  {
   "cell_type": "code",
   "execution_count": 8,
   "metadata": {},
   "outputs": [
    {
     "name": "stdout",
     "output_type": "stream",
     "text": [
      "WARNING:tensorflow:Error in loading the saved optimizer state. As a result, your model is starting with a freshly initialized optimizer.\n"
     ]
    }
   ],
   "source": [
    "# Load the model\n",
    "from tensorflow.keras.models import load_model\n",
    "import pandas as pd\n",
    "from tensorflow.python.keras.preprocessing.text import Tokenizer\n",
    "from tensorflow.python.keras.preprocessing.sequence import pad_sequences\n",
    "\n",
    "model = load_model(\"politics_model_trained.h5\")"
   ]
  },
  {
   "cell_type": "code",
   "execution_count": 19,
   "metadata": {},
   "outputs": [
    {
     "data": {
      "text/html": [
       "<div>\n",
       "<style scoped>\n",
       "    .dataframe tbody tr th:only-of-type {\n",
       "        vertical-align: middle;\n",
       "    }\n",
       "\n",
       "    .dataframe tbody tr th {\n",
       "        vertical-align: top;\n",
       "    }\n",
       "\n",
       "    .dataframe thead th {\n",
       "        text-align: right;\n",
       "    }\n",
       "</style>\n",
       "<table border=\"1\" class=\"dataframe\">\n",
       "  <thead>\n",
       "    <tr style=\"text-align: right;\">\n",
       "      <th></th>\n",
       "      <th>date</th>\n",
       "      <th>name</th>\n",
       "      <th>tweet</th>\n",
       "    </tr>\n",
       "  </thead>\n",
       "  <tbody>\n",
       "    <tr>\n",
       "      <th>0</th>\n",
       "      <td>2020-11-15</td>\n",
       "      <td>&lt;JoeBiden&gt;</td>\n",
       "      <td>congratulations to nasa and spacex on today's...</td>\n",
       "    </tr>\n",
       "    <tr>\n",
       "      <th>1</th>\n",
       "      <td>2020-11-14</td>\n",
       "      <td>&lt;JoeBiden&gt;</td>\n",
       "      <td>to the millions of hindus, jains, sikhs, and ...</td>\n",
       "    </tr>\n",
       "    <tr>\n",
       "      <th>2</th>\n",
       "      <td>2020-11-13</td>\n",
       "      <td>&lt;JoeBiden&gt;</td>\n",
       "      <td>i am the president-elect, but will not be pre...</td>\n",
       "    </tr>\n",
       "  </tbody>\n",
       "</table>\n",
       "</div>"
      ],
      "text/plain": [
       "         date        name                                              tweet\n",
       "0  2020-11-15  <JoeBiden>   congratulations to nasa and spacex on today's...\n",
       "1  2020-11-14  <JoeBiden>   to the millions of hindus, jains, sikhs, and ...\n",
       "2  2020-11-13  <JoeBiden>   i am the president-elect, but will not be pre..."
      ]
     },
     "execution_count": 19,
     "metadata": {},
     "output_type": "execute_result"
    }
   ],
   "source": [
    "politics_tweet_df = pd.read_csv('../data/politics_tweet.csv')\n",
    "politics_tweet_df= politics_tweet_df.drop(['Unnamed: 0'], axis=1)\n",
    "politics_tweet_df.head(3)"
   ]
  },
  {
   "cell_type": "code",
   "execution_count": 24,
   "metadata": {},
   "outputs": [],
   "source": [
    "text1 = 'U.S. Cancer Death Rate Lowest In Recorded History! A lot of good news coming out of this Administration.'\n",
    "text2 = 'Breaking News: The Fifth Circuit Court of Appeals just reversed a lower court decision &amp; gave us the go ahead to build one of the largest sections of the desperately needed Southern Border Wall'\n",
    "text3 = 'Hope that all House Republicans will vote against Crazy Nancy Pelosiï War Powers Resolution'\n",
    "text4 = 'PRESIDENTIAL HARASSMENT!'\n",
    "text5 = 'IRAN WILL NEVER HAVE A NUCLEAR WEAPON!'\n",
    "text6 = 'The Impeachment Hoax'\n",
    "text7 = 'Congress &amp; the President should not be wasting their time and energy on a continuation of the totally partisan Impeachment Hoax when we have so many important matters pending. 196 to ZERO was the Republican House vote'\n",
    "text8 = 'These Media Posts will serve as notification to the United States Congress that should Iran strike any U.S. person or target'\n",
    "texts = [text1, text2, text3, text4, text5, text6, text7, text8]"
   ]
  },
  {
   "cell_type": "code",
   "execution_count": 25,
   "metadata": {},
   "outputs": [
    {
     "name": "stdout",
     "output_type": "stream",
     "text": [
      "['u.s. cancer death rate lowest in recorded history! a lot of good news coming out of this administration.', 'breaking news: the fifth circuit court of appeals just reversed a lower court decision &amp; gave us the go ahead to build one of the largest sections of the desperately needed southern border wall', 'hope that all house republicans will vote against crazy nancy pelosiï war powers resolution', 'presidential harassment!', 'iran will never have a nuclear weapon!', 'the impeachment hoax', 'congress &amp; the president should not be wasting their time and energy on a continuation of the totally partisan impeachment hoax when we have so many important matters pending. 196 to zero was the republican house vote', 'these media posts will serve as notification to the united states congress that should iran strike any u.s. person or target']\n"
     ]
    }
   ],
   "source": [
    "for i in range(len(texts)):\n",
    "    texts[i] = texts[i].lower()\n",
    "print(texts)"
   ]
  },
  {
   "cell_type": "code",
   "execution_count": 26,
   "metadata": {},
   "outputs": [
    {
     "data": {
      "text/plain": [
       "(8, 57)"
      ]
     },
     "execution_count": 26,
     "metadata": {},
     "output_type": "execute_result"
    }
   ],
   "source": [
    "\n",
    "num_words = 10000\n",
    "tokenizer = Tokenizer(num_words=num_words)\n",
    "\n",
    "tokenizer.fit_on_texts(politics_tweet_df[\"tweet\"].tolist())\n",
    "\n",
    "\n",
    "tokens = tokenizer.texts_to_sequences(texts)\n",
    "\n",
    "tokens_pad = pad_sequences(tokens, maxlen=57,\n",
    "                           padding='pre', truncating='pre')\n",
    "tokens_pad.shape"
   ]
  },
  {
   "cell_type": "code",
   "execution_count": 27,
   "metadata": {},
   "outputs": [
    {
     "data": {
      "text/plain": [
       "array([[0.02197099],\n",
       "       [0.05721635],\n",
       "       [0.02678531],\n",
       "       [0.11996281],\n",
       "       [0.0432353 ],\n",
       "       [0.09208119],\n",
       "       [0.02193385],\n",
       "       [0.0286167 ]], dtype=float32)"
      ]
     },
     "execution_count": 27,
     "metadata": {},
     "output_type": "execute_result"
    }
   ],
   "source": [
    "model.predict(tokens_pad)"
   ]
  },
  {
   "cell_type": "code",
   "execution_count": 28,
   "metadata": {},
   "outputs": [
    {
     "data": {
      "text/plain": [
       "[[149,\n",
       "  144,\n",
       "  2434,\n",
       "  584,\n",
       "  839,\n",
       "  1328,\n",
       "  6,\n",
       "  2374,\n",
       "  147,\n",
       "  5,\n",
       "  461,\n",
       "  4,\n",
       "  156,\n",
       "  96,\n",
       "  332,\n",
       "  56,\n",
       "  4,\n",
       "  12,\n",
       "  181],\n",
       " [2031,\n",
       "  96,\n",
       "  1,\n",
       "  3292,\n",
       "  2459,\n",
       "  194,\n",
       "  4,\n",
       "  2536,\n",
       "  46,\n",
       "  4762,\n",
       "  5,\n",
       "  575,\n",
       "  194,\n",
       "  544,\n",
       "  22,\n",
       "  880,\n",
       "  59,\n",
       "  1,\n",
       "  190,\n",
       "  449,\n",
       "  2,\n",
       "  231,\n",
       "  60,\n",
       "  4,\n",
       "  1,\n",
       "  1514,\n",
       "  4,\n",
       "  1,\n",
       "  1669,\n",
       "  414,\n",
       "  2046,\n",
       "  404,\n",
       "  511],\n",
       " [266, 15, 30, 69, 199, 13, 49, 154, 441, 596, 493, 2134, 1770],\n",
       " [562, 4444],\n",
       " [481, 13, 83, 20, 5, 2555, 3581],\n",
       " [1, 302, 411],\n",
       " [193,\n",
       "  22,\n",
       "  1,\n",
       "  23,\n",
       "  82,\n",
       "  31,\n",
       "  19,\n",
       "  3510,\n",
       "  43,\n",
       "  70,\n",
       "  3,\n",
       "  438,\n",
       "  14,\n",
       "  5,\n",
       "  4388,\n",
       "  4,\n",
       "  1,\n",
       "  450,\n",
       "  741,\n",
       "  302,\n",
       "  411,\n",
       "  92,\n",
       "  9,\n",
       "  20,\n",
       "  64,\n",
       "  107,\n",
       "  251,\n",
       "  1527,\n",
       "  2,\n",
       "  951,\n",
       "  41,\n",
       "  1,\n",
       "  249,\n",
       "  69,\n",
       "  49],\n",
       " [122,\n",
       "  236,\n",
       "  13,\n",
       "  899,\n",
       "  24,\n",
       "  7111,\n",
       "  2,\n",
       "  1,\n",
       "  184,\n",
       "  116,\n",
       "  193,\n",
       "  15,\n",
       "  82,\n",
       "  481,\n",
       "  2236,\n",
       "  188,\n",
       "  149,\n",
       "  144,\n",
       "  329,\n",
       "  71,\n",
       "  5336]]"
      ]
     },
     "execution_count": 28,
     "metadata": {},
     "output_type": "execute_result"
    }
   ],
   "source": [
    "tokens"
   ]
  },
  {
   "cell_type": "code",
   "execution_count": null,
   "metadata": {},
   "outputs": [],
   "source": []
  }
 ],
 "metadata": {
  "kernelspec": {
   "display_name": "Python 3",
   "language": "python",
   "name": "python3"
  },
  "language_info": {
   "codemirror_mode": {
    "name": "ipython",
    "version": 3
   },
   "file_extension": ".py",
   "mimetype": "text/x-python",
   "name": "python",
   "nbconvert_exporter": "python",
   "pygments_lexer": "ipython3",
   "version": "3.7.6"
  }
 },
 "nbformat": 4,
 "nbformat_minor": 4
}
